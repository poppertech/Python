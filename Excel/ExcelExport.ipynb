{
 "cells": [
  {
   "cell_type": "code",
   "execution_count": 27,
   "id": "995d8322",
   "metadata": {},
   "outputs": [],
   "source": [
    "import pandas as pd\n",
    "from copy import copy\n",
    "from sqlalchemy import create_engine\n",
    "from openpyxl import load_workbook\n",
    "from openpyxl.utils.dataframe import dataframe_to_rows\n",
    "from openpyxl.worksheet.cell_range import CellRange\n",
    "\n",
    "sqlDialect = 'mssql'\n",
    "sqlDriver = 'pyodbc'\n",
    "sqlConn = '@./Goal-Based-Database?'\n",
    "driver = 'driver=ODBC+Driver+17+for+SQL+Server'\n",
    "\n",
    "engineConn = sqlDialect + '+' + sqlDriver + '://' + sqlConn + driver\n",
    "engine = create_engine(engineConn)\n",
    "\n",
    "sql = 'SELECT Cost FROM CashFlow'\n",
    "df = pd.read_sql(sql, engine)\n",
    "wb = load_workbook(filename = 'PreserveFormatting.xlsx')\n",
    "ws = wb['CashFlow']\n",
    "start_row = 2\n",
    "reference = ws.cell(row=start_row, column=1)\n",
    "for i in range(df.shape[0]):\n",
    "    cell = ws.cell(row=i+start_row+1, column=1)\n",
    "    cell.value = df.values[i,0]\n",
    "    if reference.has_style:\n",
    "        cell.font = copy(reference.font)\n",
    "        cell.border = copy(reference.border)\n",
    "        cell.fill = copy(reference.fill)\n",
    "        cell.number_format = copy(reference.number_format)\n",
    "        cell.protection = copy(reference.protection)\n",
    "        cell.alignment = copy(reference.alignment)\n",
    "ws.delete_rows(start_row)\n",
    "wb.save('output.xlsx')"
   ]
  },
  {
   "cell_type": "code",
   "execution_count": null,
   "id": "a626c075",
   "metadata": {},
   "outputs": [],
   "source": []
  }
 ],
 "metadata": {
  "kernelspec": {
   "display_name": "Python 3 (ipykernel)",
   "language": "python",
   "name": "python3"
  },
  "language_info": {
   "codemirror_mode": {
    "name": "ipython",
    "version": 3
   },
   "file_extension": ".py",
   "mimetype": "text/x-python",
   "name": "python",
   "nbconvert_exporter": "python",
   "pygments_lexer": "ipython3",
   "version": "3.9.13"
  }
 },
 "nbformat": 4,
 "nbformat_minor": 5
}
