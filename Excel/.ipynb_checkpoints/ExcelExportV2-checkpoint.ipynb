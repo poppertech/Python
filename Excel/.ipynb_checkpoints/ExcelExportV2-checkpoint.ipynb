{
 "cells": [
  {
   "cell_type": "code",
   "execution_count": 20,
   "id": "995d8322",
   "metadata": {},
   "outputs": [],
   "source": [
    "# imports\n",
    "import pandas as pd\n",
    "from copy import copy\n",
    "from sqlalchemy import create_engine\n",
    "from openpyxl import load_workbook\n",
    "from openpyxl.cell import Cell\n",
    "from openpyxl.worksheet import worksheet\n",
    "from pandas import DataFrame\n",
    "\n",
    "# configuration\n",
    "sqlDialect = 'mssql'\n",
    "sqlDriver = 'pyodbc'\n",
    "sqlConn = '@./Goal-Based-Database?'\n",
    "driver = 'driver=ODBC+Driver+17+for+SQL+Server'\n",
    "\n",
    "# inputs\n",
    "sql = 'SELECT Cost, Cost FROM CashFlow'\n",
    "template_name = 'Template.xlsx'\n",
    "sh_name = 'CashFlow'\n",
    "start_row = 2\n",
    "\n",
    "# functions\n",
    "def get_formatted_cell(cell: Cell, reference: Cell) -> Cell:\n",
    "    if reference.has_style:\n",
    "        cell.font = copy(reference.font)\n",
    "        cell.border = copy(reference.border)\n",
    "        cell.fill = copy(reference.fill)\n",
    "        cell.number_format = copy(reference.number_format)\n",
    "        cell.protection = copy(reference.protection)\n",
    "        cell.alignment = copy(reference.alignment)\n",
    "    return cell\n",
    "\n",
    "def get_populated_worksheet(ws: worksheet, df: DataFrame, start_row: int) -> worksheet:\n",
    "    cols = df.shape[1]\n",
    "    rows = df.shape[0]\n",
    "    for col in range(cols):\n",
    "        reference = ws.cell(row=start_row, column=col + 1)\n",
    "        for row in range(rows):\n",
    "            cell = ws.cell(row=row+start_row+1, column=col+1)\n",
    "            cell.value = df.values[row,col]\n",
    "            cell = get_formatted_cell(cell,reference)\n",
    "    ws.delete_rows(start_row)\n",
    "    return ws\n",
    "    \n",
    "# execute\n",
    "engineConn = sqlDialect + '+' + sqlDriver + '://' + sqlConn + driver\n",
    "engine = create_engine(engineConn)\n",
    "\n",
    "df = pd.read_sql(sql, engine)\n",
    "wb = load_workbook(filename = template_name)\n",
    "ws = wb[sh_name]\n",
    "ws = get_populated_worksheet(ws, df, start_row)\n",
    "wb.save('output.xlsx')"
   ]
  },
  {
   "cell_type": "code",
   "execution_count": null,
   "id": "a626c075",
   "metadata": {},
   "outputs": [],
   "source": []
  }
 ],
 "metadata": {
  "kernelspec": {
   "display_name": "Python 3 (ipykernel)",
   "language": "python",
   "name": "python3"
  },
  "language_info": {
   "codemirror_mode": {
    "name": "ipython",
    "version": 3
   },
   "file_extension": ".py",
   "mimetype": "text/x-python",
   "name": "python",
   "nbconvert_exporter": "python",
   "pygments_lexer": "ipython3",
   "version": "3.9.13"
  }
 },
 "nbformat": 4,
 "nbformat_minor": 5
}
