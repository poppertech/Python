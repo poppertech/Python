{
 "cells": [
  {
   "cell_type": "code",
   "execution_count": 18,
   "id": "995d8322",
   "metadata": {},
   "outputs": [],
   "source": [
    "import pandas as pd\n",
    "from sqlalchemy import create_engine\n",
    "from openpyxl import load_workbook\n",
    "\n",
    "sqlDialect = 'mssql'\n",
    "sqlDriver = 'pyodbc'\n",
    "sqlConn = '@./Goal-Based-Database?'\n",
    "driver = 'driver=ODBC+Driver+17+for+SQL+Server'\n",
    "\n",
    "engineConn = sqlDialect + '+' + sqlDriver + '://' + sqlConn + driver\n",
    "engine = create_engine(engineConn)\n",
    "\n",
    "sql = 'SELECT Cost FROM CashFlow'\n",
    "df = pd.read_sql(sql, engine)\n",
    "\n",
    "with pd.ExcelWriter('PreserveFormatting.xlsx',mode='a',engine='openpyxl',if_sheet_exists='overlay') as writer:  \n",
    "    df.to_excel(writer, sheet_name='CashFlow',engine=engine,startrow = 1,index=False,header=False)"
   ]
  },
  {
   "cell_type": "code",
   "execution_count": null,
   "id": "a626c075",
   "metadata": {},
   "outputs": [],
   "source": []
  }
 ],
 "metadata": {
  "kernelspec": {
   "display_name": "Python 3 (ipykernel)",
   "language": "python",
   "name": "python3"
  },
  "language_info": {
   "codemirror_mode": {
    "name": "ipython",
    "version": 3
   },
   "file_extension": ".py",
   "mimetype": "text/x-python",
   "name": "python",
   "nbconvert_exporter": "python",
   "pygments_lexer": "ipython3",
   "version": "3.9.13"
  }
 },
 "nbformat": 4,
 "nbformat_minor": 5
}
