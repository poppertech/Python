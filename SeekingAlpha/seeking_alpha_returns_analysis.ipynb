{
 "cells": [
  {
   "cell_type": "code",
   "execution_count": 1,
   "id": "fc2aa482",
   "metadata": {},
   "outputs": [],
   "source": [
    "import numpy as np\n",
    "import pandas as pd\n",
    "import statsmodels.api as sm\n",
    "\n",
    "from pandas import DataFrame, Series\n",
    "\n",
    "def get_returns(file_path):\n",
    "    data_frame = pd.read_excel(file_path, index_col='Date', parse_dates=['Date'], squeeze=False)\n",
    "    returns = data_frame['Change %'].str.rstrip(' %').astype('float')\n",
    "    returns.dropna(inplace=True)\n",
    "    returns.name = 'Total Returns'\n",
    "    return returns\n",
    "\n",
    "def get_cumulative_returns(returns):\n",
    "    return (((returns / 100) + 1).cumprod() - 1) * 100\n",
    "\n",
    "def get_returns_extrema(returns, n):\n",
    "    sorted = returns.sort_values()\n",
    "    top = sorted.head(n=n)\n",
    "    bottom = sorted.tail(n=n)\n",
    "    return pd.concat([top, bottom])\n",
    "\n",
    "def get_rolling_calculations(returns, callback, rolling_period=30, mult_factor=1, is_series=True):\n",
    "    calcs = {}\n",
    "    count = returns.count() if is_series else returns.count()['Total Returns Index']\n",
    "    last_index = count - rolling_period\n",
    "    for index in range(last_index):\n",
    "        date = returns.index[index+rolling_period]\n",
    "        calc = callback(returns.iloc[index:index+rolling_period])*mult_factor\n",
    "        calcs[date] = calc\n",
    "    return Series(calcs)"
   ]
  },
  {
   "cell_type": "code",
   "execution_count": 2,
   "id": "f8a7beee",
   "metadata": {},
   "outputs": [],
   "source": [
    "# ETL\n",
    "stock_file_path = 'mdt_historical_quotes.xlsx'\n",
    "index_file_path = 'spy_historical_quotes.xlsx'\n",
    "\n",
    "stock_returns = get_returns(stock_file_path)\n",
    "index_returns = get_returns(index_file_path)\n",
    "returns = pd.merge(index_returns, stock_returns,on='Date', suffixes=(' Index', ' Stock'))"
   ]
  },
  {
   "cell_type": "code",
   "execution_count": 3,
   "id": "288f5be9",
   "metadata": {},
   "outputs": [],
   "source": [
    "# Series Analysis\n",
    "count_returns_extrema = 5\n",
    "annualize_std_factor = 252**.5\n",
    "\n",
    "stock_cumulative_returns = get_cumulative_returns(stock_returns)\n",
    "stock_returns_extrema = get_returns_extrema(stock_returns,n=count_returns_extrema)\n",
    "stock_rolling_stds = get_rolling_calculations(stock_returns,Series.std,mult_factor=annualize_std_factor)\n",
    "\n",
    "index_cumulative_returns = get_cumulative_returns(index_returns)\n",
    "index_returns_extrema = get_returns_extrema(index_returns,n=count_returns_extrema)\n",
    "index_rolling_stds = get_rolling_calculations(index_returns,Series.std,mult_factor=annualize_std_factor)"
   ]
  },
  {
   "cell_type": "code",
   "execution_count": 4,
   "id": "2b9d343e",
   "metadata": {},
   "outputs": [],
   "source": [
    "# DataFrame Analysis\n",
    "corrs_callback = lambda returns: DataFrame.corr(returns).iloc[1,0]\n",
    "rolling_corrs = get_rolling_calculations(returns,corrs_callback,is_series=False)"
   ]
  },
  {
   "cell_type": "code",
   "execution_count": 20,
   "id": "1cbf9202",
   "metadata": {},
   "outputs": [
    {
     "data": {
      "text/plain": [
       "2017-02-16    0.093747\n",
       "2017-02-17    0.266844\n",
       "2017-02-21    0.210710\n",
       "2017-02-22    0.356704\n",
       "2017-02-23    0.300519\n",
       "                ...   \n",
       "2021-12-22    0.670844\n",
       "2021-12-23    0.662368\n",
       "2021-12-27    0.721064\n",
       "2021-12-28    0.755972\n",
       "2021-12-29    0.758696\n",
       "Length: 1220, dtype: float64"
      ]
     },
     "execution_count": 20,
     "metadata": {},
     "output_type": "execute_result"
    }
   ],
   "source": [
    "betas_callback = lambda returns: sm.OLS(returns['Total Returns Stock'], sm.add_constant(returns['Total Returns Index'])).fit().params['Total Returns Index']\n",
    "rolling_betas = get_rolling_calculations(returns, betas_callback,is_series=False)"
   ]
  },
  {
   "cell_type": "code",
   "execution_count": null,
   "id": "9412cbf8",
   "metadata": {},
   "outputs": [],
   "source": []
  }
 ],
 "metadata": {
  "kernelspec": {
   "display_name": "Python 3 (ipykernel)",
   "language": "python",
   "name": "python3"
  },
  "language_info": {
   "codemirror_mode": {
    "name": "ipython",
    "version": 3
   },
   "file_extension": ".py",
   "mimetype": "text/x-python",
   "name": "python",
   "nbconvert_exporter": "python",
   "pygments_lexer": "ipython3",
   "version": "3.9.7"
  }
 },
 "nbformat": 4,
 "nbformat_minor": 5
}
