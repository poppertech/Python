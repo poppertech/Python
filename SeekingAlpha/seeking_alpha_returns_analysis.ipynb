{
 "cells": [
  {
   "cell_type": "code",
   "execution_count": null,
   "id": "e0aa7104",
   "metadata": {},
   "outputs": [],
   "source": [
    "# Inputs \n",
    "stock_file_path = 'amzn_historical_quotes.xlsx'\n",
    "index_file_path = 'spy_historical_quotes.xlsx'"
   ]
  },
  {
   "cell_type": "code",
   "execution_count": null,
   "id": "fc2aa482",
   "metadata": {},
   "outputs": [],
   "source": [
    "# Imports\n",
    "import numpy as np\n",
    "import pandas as pd\n",
    "import matplotlib.pyplot as plt\n",
    "import matplotlib.dates as mdates\n",
    "\n",
    "from pandas import DataFrame, Series"
   ]
  },
  {
   "cell_type": "code",
   "execution_count": null,
   "id": "e9edf9f3",
   "metadata": {},
   "outputs": [],
   "source": [
    "# Constants\n",
    "DATE_COL = 'Date'\n",
    "RETURNS_NAME = 'Total Returns'\n",
    "INDEX_SUFFIX = ' Index'\n",
    "STOCK_SUFFIX = ' Stock'\n",
    "INDEX_RETURNS_NAME = RETURNS_NAME + INDEX_SUFFIX\n",
    "STOCK_RETURNS_NAME = RETURNS_NAME + STOCK_SUFFIX"
   ]
  },
  {
   "cell_type": "code",
   "execution_count": null,
   "id": "a49dbe0d",
   "metadata": {},
   "outputs": [],
   "source": [
    "# Functions\n",
    "def get_returns(file_path):\n",
    "    data_frame = pd.read_excel(file_path, index_col=DATE_COL, parse_dates=[DATE_COL])\n",
    "    returns = data_frame['Change %'].astype('float')\n",
    "    returns.dropna(inplace=True)\n",
    "    returns.name = RETURNS_NAME\n",
    "    return returns\n",
    "\n",
    "def get_cumulative_returns(returns):\n",
    "    return (((returns / 100) + 1).cumprod() - 1) * 100\n",
    "\n",
    "def get_returns_extrema(returns, n):\n",
    "    sorted = returns.sort_values()\n",
    "    top = sorted.head(n=n)\n",
    "    bottom = sorted.tail(n=n)\n",
    "    extrema = pd.concat([top, bottom])\n",
    "    extrema.index = extrema.index.strftime('%Y-%m-%d')\n",
    "    return extrema"
   ]
  },
  {
   "cell_type": "code",
   "execution_count": null,
   "id": "f8a7beee",
   "metadata": {},
   "outputs": [],
   "source": [
    "# ETL\n",
    "stock_returns = get_returns(stock_file_path)\n",
    "index_returns = get_returns(index_file_path)\n",
    "returns = pd.merge(index_returns, stock_returns,on=DATE_COL, suffixes=(INDEX_SUFFIX, STOCK_SUFFIX))"
   ]
  },
  {
   "cell_type": "code",
   "execution_count": null,
   "id": "7d327faa",
   "metadata": {},
   "outputs": [],
   "source": [
    "# Rolling Correlation\n",
    "rolling_corrs = returns[STOCK_RETURNS_NAME].rolling(window=90, min_periods=90).corr(returns[INDEX_RETURNS_NAME]).dropna()\n",
    "rolling_corrs_ax = rolling_corrs.plot(title='Rolling Correlation', color='grey')\n",
    "rolling_corrs_ax.figure.savefig('rolling_corrs.png',bbox_inches='tight')"
   ]
  },
  {
   "cell_type": "code",
   "execution_count": null,
   "id": "24d0e96c",
   "metadata": {},
   "outputs": [],
   "source": [
    "# Rolling Betas\n",
    "rolling_cov = returns[STOCK_RETURNS_NAME].rolling(window=90, min_periods=90).cov(returns[INDEX_RETURNS_NAME]).dropna()\n",
    "rolling_index_var = returns[INDEX_RETURNS_NAME].rolling(window=90, min_periods=90).var().dropna()\n",
    "rolling_betas = rolling_cov / rolling_index_var\n",
    "rolling_betas_ax = rolling_betas.plot(title='Rolling Betas',color='black')\n",
    "rolling_betas_ax.figure.savefig('rolling_betas.png',bbox_inches='tight')"
   ]
  },
  {
   "cell_type": "code",
   "execution_count": null,
   "id": "67d9fe7c",
   "metadata": {},
   "outputs": [],
   "source": [
    "# Rolling Standard Deviation\n",
    "annualize_std_factor = 252**.5\n",
    "stock_rolling_stds = stock_returns.rolling(window=30, min_periods=30).std().dropna() * annualize_std_factor\n",
    "index_rolling_stds = index_returns.rolling(window=30, min_periods=30).std().dropna() * annualize_std_factor\n",
    "rolling_stds_fig, rolling_stds_axes = plt.subplots(nrows=2,sharex=True,sharey=True)\n",
    "stock_rolling_stds.plot(ax=rolling_stds_axes[0],legend=False,subplots=True,title='Rolling Standard Deviation')\n",
    "index_rolling_stds.plot(ax=rolling_stds_axes[1],legend=False,subplots=True,color='red')\n",
    "rolling_stds_fig.savefig('rolling_stds.png',bbox_inches='tight')"
   ]
  },
  {
   "cell_type": "code",
   "execution_count": null,
   "id": "d6993d07",
   "metadata": {},
   "outputs": [],
   "source": [
    "# Cumulative Returns\n",
    "stock_cumulative_returns = get_cumulative_returns(stock_returns)\n",
    "index_cumulative_returns = get_cumulative_returns(index_returns)\n",
    "cumulative_returns_fig, cumulative_returns_axes = plt.subplots(nrows=2,sharex=True,sharey=True)\n",
    "stock_cumulative_returns.plot(ax=cumulative_returns_axes[0],legend=False,subplots=True,title='Cumulative Returns')\n",
    "index_cumulative_returns.plot(ax=cumulative_returns_axes[1],legend=False,subplots=True,color='red')\n",
    "cumulative_returns_fig.savefig('cumulative_returns.png',bbox_inches='tight')"
   ]
  },
  {
   "cell_type": "code",
   "execution_count": null,
   "id": "9127072f",
   "metadata": {},
   "outputs": [],
   "source": [
    "# Stock Extrema\n",
    "count_returns_extrema = 5\n",
    "stock_returns_extrema = get_returns_extrema(stock_returns,n=count_returns_extrema)\n",
    "stock_returns_extrema_ax = stock_returns_extrema.plot(kind='bar', xlabel='', title='Extreme Returns')\n",
    "stock_returns_extrema_ax.figure.savefig('stock_returns_extrema.png',bbox_inches='tight')"
   ]
  }
 ],
 "metadata": {
  "kernelspec": {
   "display_name": "Python 3 (ipykernel)",
   "language": "python",
   "name": "python3"
  },
  "language_info": {
   "codemirror_mode": {
    "name": "ipython",
    "version": 3
   },
   "file_extension": ".py",
   "mimetype": "text/x-python",
   "name": "python",
   "nbconvert_exporter": "python",
   "pygments_lexer": "ipython3",
   "version": "3.9.13"
  }
 },
 "nbformat": 4,
 "nbformat_minor": 5
}
